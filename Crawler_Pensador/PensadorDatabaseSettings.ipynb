{
 "cells": [
  {
   "cell_type": "markdown",
   "metadata": {},
   "source": [
    "## Ajustes na base de dados"
   ]
  },
  {
   "cell_type": "code",
   "execution_count": 1,
   "metadata": {},
   "outputs": [
    {
     "name": "stdout",
     "output_type": "stream",
     "text": [
      "Tamado da base de dados:  269255\n"
     ]
    }
   ],
   "source": [
    "#lendo e recebendo base de dados\n",
    "f = open(\"phrasesDatabase.txt\", \"r\")\n",
    "phrases = f.readlines()\n",
    "print(\"Tamado da base de dados: \",len(phrases))"
   ]
  },
  {
   "cell_type": "code",
   "execution_count": 2,
   "metadata": {},
   "outputs": [
    {
     "name": "stdout",
     "output_type": "stream",
     "text": [
      "Tamanho depois do filtro 1:  252305\n",
      "Tamanho depois do filtro 2:  247427\n"
     ]
    }
   ],
   "source": [
    "#Filtrando a base de dados\n",
    "#1 - A frase deve conter mais de uma palavra\n",
    "filtering = [phrase for phrase in phrases if len(phrase.split()) > 1]\n",
    "print(\"Tamanho depois do filtro 1: \",len(filtering))\n",
    "#2 - Removendo frases repetidas  \n",
    "filter_2 = []\n",
    "for phrase in filtering:\n",
    "    if phrase not in filter_2:\n",
    "        filter_2.append(phrase)\n",
    "filtering = filter_2\n",
    "print(\"Tamanho depois do filtro 2: \",len(filtering))"
   ]
  },
  {
   "cell_type": "code",
   "execution_count": 3,
   "metadata": {},
   "outputs": [],
   "source": [
    "# for phrase in filtering:\n",
    "#     if len(phrase.split()) < 3:\n",
    "#         print(phrase)"
   ]
  },
  {
   "cell_type": "code",
   "execution_count": null,
   "metadata": {},
   "outputs": [],
   "source": []
  }
 ],
 "metadata": {
  "kernelspec": {
   "display_name": "Python 3",
   "language": "python",
   "name": "python3"
  },
  "language_info": {
   "codemirror_mode": {
    "name": "ipython",
    "version": 3
   },
   "file_extension": ".py",
   "mimetype": "text/x-python",
   "name": "python",
   "nbconvert_exporter": "python",
   "pygments_lexer": "ipython3",
   "version": "3.7.6"
  }
 },
 "nbformat": 4,
 "nbformat_minor": 4
}
